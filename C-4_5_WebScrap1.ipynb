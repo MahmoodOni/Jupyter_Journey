{
 "cells": [
  {
   "cell_type": "code",
   "execution_count": 142,
   "id": "b2cdc38a",
   "metadata": {},
   "outputs": [],
   "source": [
    "import requests\n",
    "from bs4 import BeautifulSoup"
   ]
  },
  {
   "cell_type": "code",
   "execution_count": 143,
   "id": "3cbf0139",
   "metadata": {},
   "outputs": [],
   "source": [
    "url=\"https://www.ibm.com\""
   ]
  },
  {
   "cell_type": "code",
   "execution_count": 144,
   "id": "43143b0c",
   "metadata": {},
   "outputs": [],
   "source": [
    "data=requests.get(url).text"
   ]
  },
  {
   "cell_type": "code",
   "execution_count": 145,
   "id": "4419d98e",
   "metadata": {},
   "outputs": [],
   "source": [
    "soup=BeautifulSoup(data,\"html.parser\")"
   ]
  },
  {
   "cell_type": "code",
   "execution_count": 146,
   "id": "cc703098",
   "metadata": {},
   "outputs": [],
   "source": [
    "links=soup.find_all('a',href=True)"
   ]
  },
  {
   "cell_type": "code",
   "execution_count": 147,
   "id": "0093d932",
   "metadata": {},
   "outputs": [],
   "source": [
    "#for link in links:\n",
    "   # print(link.get('href'))"
   ]
  },
  {
   "cell_type": "code",
   "execution_count": 148,
   "id": "2e288a5f",
   "metadata": {},
   "outputs": [],
   "source": [
    "imgs=soup.find_all('img')"
   ]
  },
  {
   "cell_type": "code",
   "execution_count": 149,
   "id": "cc6badfe",
   "metadata": {},
   "outputs": [
    {
     "ename": "IndentationError",
     "evalue": "expected an indented block (3801579130.py, line 3)",
     "output_type": "error",
     "traceback": [
      "\u001b[1;36m  Input \u001b[1;32mIn [149]\u001b[1;36m\u001b[0m\n\u001b[1;33m    # print(img.get('src'))\u001b[0m\n\u001b[1;37m                           ^\u001b[0m\n\u001b[1;31mIndentationError\u001b[0m\u001b[1;31m:\u001b[0m expected an indented block\n"
     ]
    }
   ],
   "source": [
    "for img in imgs:\n",
    "   # print(img)\n",
    "   # print(img.get('src'))"
   ]
  },
  {
   "cell_type": "markdown",
   "id": "7777354b",
   "metadata": {},
   "source": [
    "Scrap Data From Html table"
   ]
  },
  {
   "cell_type": "code",
   "execution_count": null,
   "id": "55f7e3b6",
   "metadata": {},
   "outputs": [],
   "source": [
    "urls = \"https://cf-courses-data.s3.us.cloud-object-storage.appdomain.cloud/IBM-DA0321EN-SkillsNetwork/labs/datasets/HTMLColorCodes.html\""
   ]
  },
  {
   "cell_type": "code",
   "execution_count": null,
   "id": "9017a297",
   "metadata": {},
   "outputs": [],
   "source": [
    "datas=requests.get(urls).text"
   ]
  },
  {
   "cell_type": "code",
   "execution_count": null,
   "id": "0f93e5c7",
   "metadata": {},
   "outputs": [],
   "source": [
    "soups=BeautifulSoup(datas,\"html.parser\")"
   ]
  },
  {
   "cell_type": "code",
   "execution_count": null,
   "id": "b3dea4c2",
   "metadata": {},
   "outputs": [],
   "source": [
    "table=soups.find('table')"
   ]
  },
  {
   "cell_type": "code",
   "execution_count": null,
   "id": "2714f3a1",
   "metadata": {},
   "outputs": [],
   "source": [
    "tables=table.find_all('tr')"
   ]
  },
  {
   "cell_type": "code",
   "execution_count": null,
   "id": "29f09573",
   "metadata": {},
   "outputs": [],
   "source": [
    "for row in tables:\n",
    "    #print(row)\n",
    "    col=row.find_all('td')\n",
    "    color_name=col[2].string\n",
    "    color_code=col[3].string\n",
    "    #color_model=col[4].string\n",
    "    #print(\"{}------>{}\".format(color_name,color_attr))"
   ]
  },
  {
   "cell_type": "markdown",
   "id": "35b7396b",
   "metadata": {},
   "source": [
    "Scrap Data From Table"
   ]
  },
  {
   "cell_type": "code",
   "execution_count": 150,
   "id": "7e25459c",
   "metadata": {},
   "outputs": [],
   "source": [
    "import pandas as pd"
   ]
  },
  {
   "cell_type": "code",
   "execution_count": 151,
   "id": "bbb936f0",
   "metadata": {},
   "outputs": [],
   "source": [
    "url = \"https://en.wikipedia.org/wiki/World_population\""
   ]
  },
  {
   "cell_type": "code",
   "execution_count": 152,
   "id": "eb1a62e7",
   "metadata": {},
   "outputs": [],
   "source": [
    "data2=requests.get(url).text"
   ]
  },
  {
   "cell_type": "code",
   "execution_count": 153,
   "id": "743f45d5",
   "metadata": {},
   "outputs": [],
   "source": [
    "soup2=BeautifulSoup(data2,'html.parser')"
   ]
  },
  {
   "cell_type": "code",
   "execution_count": 154,
   "id": "eed0a7be",
   "metadata": {},
   "outputs": [],
   "source": [
    "table2=soup2.find_all('table')"
   ]
  },
  {
   "cell_type": "code",
   "execution_count": 155,
   "id": "3e5a6cda",
   "metadata": {},
   "outputs": [
    {
     "data": {
      "text/plain": [
       "25"
      ]
     },
     "execution_count": 155,
     "metadata": {},
     "output_type": "execute_result"
    }
   ],
   "source": [
    "len(table2)"
   ]
  },
  {
   "cell_type": "code",
   "execution_count": 156,
   "id": "0f709852",
   "metadata": {},
   "outputs": [
    {
     "name": "stdout",
     "output_type": "stream",
     "text": [
      "5\n"
     ]
    }
   ],
   "source": [
    "for index,table in enumerate(table2):\n",
    "    if(\"10 most densely populated countries\" in str(table)):\n",
    "        table_index=index\n",
    "print(table_index)"
   ]
  },
  {
   "cell_type": "code",
   "execution_count": 157,
   "id": "d79db434",
   "metadata": {},
   "outputs": [],
   "source": [
    "prettify=table2[table_index].prettify()\n",
    "#print(prettify)"
   ]
  },
  {
   "cell_type": "code",
   "execution_count": 161,
   "id": "5912bb11",
   "metadata": {},
   "outputs": [
    {
     "name": "stderr",
     "output_type": "stream",
     "text": [
      "C:\\Users\\mahmo\\AppData\\Local\\Temp\\ipykernel_1380\\2300467445.py:12: FutureWarning: The frame.append method is deprecated and will be removed from pandas in a future version. Use pandas.concat instead.\n",
      "  population_data = population_data.append({\"Rank\":rank, \"Country\":country, \"Population\":population, \"Area\":area, \"Density\":density} ,ignore_index=True)\n",
      "C:\\Users\\mahmo\\AppData\\Local\\Temp\\ipykernel_1380\\2300467445.py:12: FutureWarning: The frame.append method is deprecated and will be removed from pandas in a future version. Use pandas.concat instead.\n",
      "  population_data = population_data.append({\"Rank\":rank, \"Country\":country, \"Population\":population, \"Area\":area, \"Density\":density} ,ignore_index=True)\n",
      "C:\\Users\\mahmo\\AppData\\Local\\Temp\\ipykernel_1380\\2300467445.py:12: FutureWarning: The frame.append method is deprecated and will be removed from pandas in a future version. Use pandas.concat instead.\n",
      "  population_data = population_data.append({\"Rank\":rank, \"Country\":country, \"Population\":population, \"Area\":area, \"Density\":density} ,ignore_index=True)\n",
      "C:\\Users\\mahmo\\AppData\\Local\\Temp\\ipykernel_1380\\2300467445.py:12: FutureWarning: The frame.append method is deprecated and will be removed from pandas in a future version. Use pandas.concat instead.\n",
      "  population_data = population_data.append({\"Rank\":rank, \"Country\":country, \"Population\":population, \"Area\":area, \"Density\":density} ,ignore_index=True)\n",
      "C:\\Users\\mahmo\\AppData\\Local\\Temp\\ipykernel_1380\\2300467445.py:12: FutureWarning: The frame.append method is deprecated and will be removed from pandas in a future version. Use pandas.concat instead.\n",
      "  population_data = population_data.append({\"Rank\":rank, \"Country\":country, \"Population\":population, \"Area\":area, \"Density\":density} ,ignore_index=True)\n",
      "C:\\Users\\mahmo\\AppData\\Local\\Temp\\ipykernel_1380\\2300467445.py:12: FutureWarning: The frame.append method is deprecated and will be removed from pandas in a future version. Use pandas.concat instead.\n",
      "  population_data = population_data.append({\"Rank\":rank, \"Country\":country, \"Population\":population, \"Area\":area, \"Density\":density} ,ignore_index=True)\n",
      "C:\\Users\\mahmo\\AppData\\Local\\Temp\\ipykernel_1380\\2300467445.py:12: FutureWarning: The frame.append method is deprecated and will be removed from pandas in a future version. Use pandas.concat instead.\n",
      "  population_data = population_data.append({\"Rank\":rank, \"Country\":country, \"Population\":population, \"Area\":area, \"Density\":density} ,ignore_index=True)\n",
      "C:\\Users\\mahmo\\AppData\\Local\\Temp\\ipykernel_1380\\2300467445.py:12: FutureWarning: The frame.append method is deprecated and will be removed from pandas in a future version. Use pandas.concat instead.\n",
      "  population_data = population_data.append({\"Rank\":rank, \"Country\":country, \"Population\":population, \"Area\":area, \"Density\":density} ,ignore_index=True)\n",
      "C:\\Users\\mahmo\\AppData\\Local\\Temp\\ipykernel_1380\\2300467445.py:12: FutureWarning: The frame.append method is deprecated and will be removed from pandas in a future version. Use pandas.concat instead.\n",
      "  population_data = population_data.append({\"Rank\":rank, \"Country\":country, \"Population\":population, \"Area\":area, \"Density\":density} ,ignore_index=True)\n",
      "C:\\Users\\mahmo\\AppData\\Local\\Temp\\ipykernel_1380\\2300467445.py:12: FutureWarning: The frame.append method is deprecated and will be removed from pandas in a future version. Use pandas.concat instead.\n",
      "  population_data = population_data.append({\"Rank\":rank, \"Country\":country, \"Population\":population, \"Area\":area, \"Density\":density} ,ignore_index=True)\n"
     ]
    },
    {
     "data": {
      "text/html": [
       "<div>\n",
       "<style scoped>\n",
       "    .dataframe tbody tr th:only-of-type {\n",
       "        vertical-align: middle;\n",
       "    }\n",
       "\n",
       "    .dataframe tbody tr th {\n",
       "        vertical-align: top;\n",
       "    }\n",
       "\n",
       "    .dataframe thead th {\n",
       "        text-align: right;\n",
       "    }\n",
       "</style>\n",
       "<table border=\"1\" class=\"dataframe\">\n",
       "  <thead>\n",
       "    <tr style=\"text-align: right;\">\n",
       "      <th></th>\n",
       "      <th>Rank</th>\n",
       "      <th>Country</th>\n",
       "      <th>Population</th>\n",
       "      <th>Area</th>\n",
       "      <th>Density</th>\n",
       "    </tr>\n",
       "  </thead>\n",
       "  <tbody>\n",
       "    <tr>\n",
       "      <th>0</th>\n",
       "      <td>1</td>\n",
       "      <td>Singapore</td>\n",
       "      <td>5,704,000</td>\n",
       "      <td>710</td>\n",
       "      <td>8,033</td>\n",
       "    </tr>\n",
       "    <tr>\n",
       "      <th>1</th>\n",
       "      <td>2</td>\n",
       "      <td>Bangladesh</td>\n",
       "      <td>173,600,000</td>\n",
       "      <td>143,998</td>\n",
       "      <td>1,206</td>\n",
       "    </tr>\n",
       "    <tr>\n",
       "      <th>2</th>\n",
       "      <td>3</td>\n",
       "      <td>\\n Palestine\\n\\n</td>\n",
       "      <td>5,266,785</td>\n",
       "      <td>6,020</td>\n",
       "      <td>847</td>\n",
       "    </tr>\n",
       "    <tr>\n",
       "      <th>3</th>\n",
       "      <td>4</td>\n",
       "      <td>Lebanon</td>\n",
       "      <td>6,856,000</td>\n",
       "      <td>10,452</td>\n",
       "      <td>656</td>\n",
       "    </tr>\n",
       "    <tr>\n",
       "      <th>4</th>\n",
       "      <td>5</td>\n",
       "      <td>Taiwan</td>\n",
       "      <td>23,604,000</td>\n",
       "      <td>36,193</td>\n",
       "      <td>652</td>\n",
       "    </tr>\n",
       "    <tr>\n",
       "      <th>5</th>\n",
       "      <td>6</td>\n",
       "      <td>South Korea</td>\n",
       "      <td>51,781,000</td>\n",
       "      <td>99,538</td>\n",
       "      <td>520</td>\n",
       "    </tr>\n",
       "    <tr>\n",
       "      <th>6</th>\n",
       "      <td>7</td>\n",
       "      <td>Rwanda</td>\n",
       "      <td>12,374,000</td>\n",
       "      <td>26,338</td>\n",
       "      <td>470</td>\n",
       "    </tr>\n",
       "    <tr>\n",
       "      <th>7</th>\n",
       "      <td>8</td>\n",
       "      <td>Israel</td>\n",
       "      <td>9,590,000</td>\n",
       "      <td>22,072</td>\n",
       "      <td>435</td>\n",
       "    </tr>\n",
       "    <tr>\n",
       "      <th>8</th>\n",
       "      <td>9</td>\n",
       "      <td>Haiti</td>\n",
       "      <td>11,578,000</td>\n",
       "      <td>27,065</td>\n",
       "      <td>428</td>\n",
       "    </tr>\n",
       "    <tr>\n",
       "      <th>9</th>\n",
       "      <td>10</td>\n",
       "      <td>Netherlands</td>\n",
       "      <td>17,750,000</td>\n",
       "      <td>41,526</td>\n",
       "      <td>428</td>\n",
       "    </tr>\n",
       "  </tbody>\n",
       "</table>\n",
       "</div>"
      ],
      "text/plain": [
       "  Rank           Country   Population     Area Density\n",
       "0    1         Singapore    5,704,000      710   8,033\n",
       "1    2        Bangladesh  173,600,000  143,998   1,206\n",
       "2    3  \\n Palestine\\n\\n    5,266,785    6,020     847\n",
       "3    4           Lebanon    6,856,000   10,452     656\n",
       "4    5            Taiwan   23,604,000   36,193     652\n",
       "5    6       South Korea   51,781,000   99,538     520\n",
       "6    7            Rwanda   12,374,000   26,338     470\n",
       "7    8            Israel    9,590,000   22,072     435\n",
       "8    9             Haiti   11,578,000   27,065     428\n",
       "9   10       Netherlands   17,750,000   41,526     428"
      ]
     },
     "execution_count": 161,
     "metadata": {},
     "output_type": "execute_result"
    }
   ],
   "source": [
    "population_data=pd.DataFrame(columns=[\"Rank\",\"Country\",\"Population\",\"Area\",\"Density\"])\n",
    "#extra=table2[table_index].tbody.find_all('tr')\n",
    "\n",
    "for row in table2[table_index].tbody.find_all('tr'):\n",
    "    colss=row.find_all('td')\n",
    "    if (colss != []):\n",
    "        rank=colss[0].text\n",
    "        country=colss[1].text\n",
    "        population=colss[2].text.strip()\n",
    "        area=colss[3].text.strip()\n",
    "        density=colss[4].text.strip()\n",
    "        population_data = population_data.append({\"Rank\":rank, \"Country\":country, \"Population\":population, \"Area\":area, \"Density\":density} ,ignore_index=True)\n",
    "        #population_data = pd.concat({\"Rank\":rank, \"Country\":country, \"Population\":population, \"Area\":area, \"Density\":density} ,ignore_index=True)\n",
    "\n",
    "population_data"
   ]
  },
  {
   "cell_type": "code",
   "execution_count": null,
   "id": "c6487007",
   "metadata": {},
   "outputs": [],
   "source": []
  }
 ],
 "metadata": {
  "kernelspec": {
   "display_name": "Python 3 (ipykernel)",
   "language": "python",
   "name": "python3"
  },
  "language_info": {
   "codemirror_mode": {
    "name": "ipython",
    "version": 3
   },
   "file_extension": ".py",
   "mimetype": "text/x-python",
   "name": "python",
   "nbconvert_exporter": "python",
   "pygments_lexer": "ipython3",
   "version": "3.9.12"
  }
 },
 "nbformat": 4,
 "nbformat_minor": 5
}
